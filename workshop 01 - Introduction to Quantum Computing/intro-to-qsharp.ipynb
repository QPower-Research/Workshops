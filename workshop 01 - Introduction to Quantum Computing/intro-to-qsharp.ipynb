{
 "cells": [
  {
   "cell_type": "markdown",
   "metadata": {},
   "source": [
    "# Introduction\n",
    "---\n",
    "_by Rohit Ashiwal <rohit.ashiwal265@gmail.com>_\n",
    "\n",
    "A natural model for quantum computation is to treat the quantum computer as a coprocessor, similar to that used for GPUs, FPGAs, and other adjunct processors. The primary control logic runs classical code on a classical \"host\" computer. When appropriate and necessary, the host program can invoke a subroutine that runs on the adjunct processor. When the subroutine completes, the host program gets access to the subroutine's results.\n",
    "\n",
    "Q# is a domain-specific programming language used for expressing quantum algorithms. It is used for writing subroutines that execute on an adjunct quantum processor, under the control of a classical host program and computer. Until quantum processors are widely available, Q# subroutines execute on a simulator."
   ]
  },
  {
   "cell_type": "markdown",
   "metadata": {},
   "source": [
    "## Type Model\n",
    "\n",
    "Q# is a _strongly-typed_ language, such that careful use of these types can help the compiler to provide stron guarantees about Q# programs at compile time.\n",
    "\n",
    "In order to provide the strongest guarantees possible, conversions between types in Q# must be explicit using calls to functions which experss that conversion. Upcasts to compatible types handles implicitly.\n",
    "\n",
    "Q# provides both primitive type, which can be used directly, and a variety of ways to produce new types from other types. We describe each in the rest of this section."
   ]
  },
  {
   "cell_type": "markdown",
   "metadata": {},
   "source": [
    "### Primitive Types\n",
    "\n",
    "The language provides several _primitive types_, from which other types can be constructed:\n",
    "\n",
    "- `Int` representing signed integer\n",
    "- `BigInt` signed integer of arbitrary size\n",
    "- `Double` representing double-precision floating-point number\n",
    "- `Bool` for boolean types\n",
    "- `Qubit` to represent quantum bit or qubit\n",
    "- `Pauli` representing one of the four single-qubit Pauli operator\n",
    "- `Result` to contain result of measurement\n",
    "- `Range` represents a sequence of integers\n",
    "- `String` representing a sequence of unicode characters\n",
    "- `Unit` is a type that allows only one value `()`\n",
    "\n",
    "Example:\n",
    "\n",
    "```cs\n",
    "let one = 1;\n",
    "let pi = 3.14;\n",
    "```\n",
    "\n",
    "By default variables are immutable, but we can declare mutable variables by using `mutable` keyword.\n",
    "\n",
    "Example:\n",
    "\n",
    "```cs\n",
    "mutable x = 1;\n",
    "set x = 2;\n",
    "```"
   ]
  },
  {
   "cell_type": "markdown",
   "metadata": {},
   "source": [
    "### Array Types\n",
    "\n",
    "Array is a data structure, which can store a fixed-size collection of elements of the same data type. In Q#, we can create an array by using square bracket around the elements of an array.\n",
    "\n",
    "Example:\n",
    "\n",
    "```cs\n",
    "let arr = [1, 2, 3, 4];\n",
    "let even = arr[1..2..4];\n",
    "```\n",
    "\n",
    "> ⚠️ Warning \\\n",
    "\\\n",
    "The elements of an array cannot be changed after the array has been created. Update-and-reassign statements and/or copy-and-update expressions can be used to construct a modified array.\n",
    "\n",
    "Alternatively, we can declare an array by using the `new` keyword.\n",
    "\n",
    "Example:\n",
    "\n",
    "```cs\n",
    "let zero = new Int[13];\n",
    "let qubits = new Qubit[10];\n",
    "```"
   ]
  },
  {
   "cell_type": "markdown",
   "metadata": {},
   "source": [
    "### Tuple Types\n",
    "\n",
    "Tuple types hold different types within themselves. Such nesting is finite, however, as tuple types cannot under any circumstances contain themselves.\n",
    "\n",
    "We have already seen a typle, `()`, which is an _empty_ tuple value.\n",
    "\n",
    "Tuple instances are `immutable`. Q# does not provide a mechanism to change the contents of a tuple once created.\n",
    "\n",
    "Example:\n",
    "\n",
    "```cs\n",
    "let tup = (3, false);\n",
    "```"
   ]
  },
  {
   "cell_type": "markdown",
   "metadata": {},
   "source": [
    "### Operation and Function Types\n",
    "\n",
    "A Q# operation is a quantum subroutine. That is, it is a callable routine that contains quantum operations whereas a Q# function is a classical subroutine used within a quantum algorithm. Specifically, functions may not allocate or borrow qubits, not may they call operations. It is possible, however, to pass them operations or qubits for processing. Functions are thus entirely deterministic in the sense that calling them with the same arguments will always produce same result.\n",
    "\n",
    "Together, operations and functions are called _callables_."
   ]
  },
  {
   "cell_type": "markdown",
   "metadata": {},
   "source": [
    "### User-Defined Types\n",
    "\n",
    "We can define new types using the `newtype` statement. Let's create a complex datatype.\n",
    "\n",
    "```cs\n",
    "newtype Complex = (Double, Double);\n",
    "```\n",
    "\n",
    "This statement creates a new type with two _anonymous_ items of type `Double`. Aside from anonymous items, user define types also support named items as of Q# version 0.7 or higher.\n",
    "\n",
    "```cs\n",
    "newtype Complex = (Re: Double, Im: Double);\n",
    "```\n",
    "\n",
    "And now, we can use this newly created type just like any other type. We can pass it to a function, create different instances of it, etc.\n",
    "\n",
    "```cs\n",
    "function ComplexAddition(a: Complex, b: Complex) : Complex {\n",
    "    return Complex(a::Re + b::Re, a::Im + b::Im);\n",
    "}\n",
    "```"
   ]
  },
  {
   "cell_type": "markdown",
   "metadata": {},
   "source": [
    "## Statement and Other Constructs\n",
    "\n",
    "### Comments\n",
    "\n",
    "Comments begin with two forward slashes, `//`, and continue until the end of line. A comment may appear anywhere in a Q# source file."
   ]
  },
  {
   "cell_type": "markdown",
   "metadata": {},
   "source": [
    "### Namespaces\n",
    "\n",
    "A namespace is a declarative region that provides a scope to the identifiers (the names of types, functions, variables, etc) inside it.\n",
    "\n",
    "Every Q# operation, and user-defined type is defined within a namespace. Q# follows the sames rules for naming as other .NET languages. However, Q# does not support relative references to namespaces. Implies, `c.d` will not resolve to `a.b.c.d` if `a.b` is already opened.\n",
    "\n",
    "`open` directive is used to include a namespace. We can also form aliases using `as` keyword\n",
    "\n",
    "Example:\n",
    "\n",
    "```cs\n",
    "namespace NS {\n",
    "    open Microsoft.Quantum.Intrinsic;\n",
    "    open Microsoft.Quantum.Math as Math;\n",
    "}\n",
    "```"
   ]
  },
  {
   "cell_type": "markdown",
   "metadata": {},
   "source": [
    "### Control Flow\n",
    "\n",
    "#### For Loop\n",
    "\n",
    "The `for` statement supports iteration over an integer range or over an array. The binding of the declared symbol(s) bound to each value in the range or array. In particular, it is possible to destruct e.g. array items for an iteration over an array upon assignment to the loop variable(s).\n",
    "\n",
    "Example:\n",
    "\n",
    "```cs\n",
    "for (qubit in qubits) {  // qubits: Qubit[]\n",
    "    H(qubit);\n",
    "}\n",
    "\n",
    "for (idx in 0 .. Length(qubits) - 1) {\n",
    "    set results w/= idx <- (idx, M(qubits[idx]));  // update-and-reassign statement\n",
    "}\n",
    "```\n",
    "\n",
    "The loop variable is bound at each enterance to the loop body, and unbound at the end of the body. In particular, the loop variable is not bound after the for loop is completed."
   ]
  },
  {
   "cell_type": "markdown",
   "metadata": {},
   "source": [
    "#### Repeat-Until-Success Loop\n",
    "\n",
    "The `repeat` statment supports the quantum \"repeat until success\" pattern. The block is repeated `until` a certained condition _is_ met.\n",
    "\n",
    "Example:\n",
    "\n",
    "```cs\n",
    "using (qubit = Qubit()) {\n",
    "    repeat {\n",
    "        H(qubit);\n",
    "        let result = M(qubit);\n",
    "        Message($\"{result}\");\n",
    "    } until (result == Zero);\n",
    "}\n",
    "```"
   ]
  },
  {
   "cell_type": "markdown",
   "metadata": {},
   "source": [
    "#### While Loop\n",
    "\n",
    "Repeat-until-success patterns have a very quantum-specific connotation. They are widely used in particular classes of quantum algorithms -- hence the dedicated language construct in Q#. However, loops that break based on a condition and whose execution length is thus unknown at compile time need to be handled with particular care in a quantum runtime. Their use within functions on the other hand is unproblematic, since these only contain code that will be executed on conventional (non-quantum) hardware.\n",
    "\n",
    "> ℹ️ Note\\\n",
    "\\\n",
    "Q# supports to use of while loops within functions only.\n",
    "\n",
    "```cs\n",
    "mutable (item, idx) = (-1, 0);\n",
    "\n",
    "while (idx < Length(arr) and item < 0) {\n",
    "    set item = arr[idx];\n",
    "    set item += 1;\n",
    "}\n",
    "```\n",
    "    "
   ]
  },
  {
   "cell_type": "markdown",
   "metadata": {},
   "source": [
    "### Conditional Statement\n",
    "\n",
    "Q# supports `if` statements for conditional execution. Also, nested conditionals are allowed.\n",
    "\n",
    "```cs\n",
    "if (result == One) {\n",
    "    X(target);\n",
    "}\n",
    "\n",
    "if (i == 1) {\n",
    "    X(target);\n",
    "} elif (i == 2) {\n",
    "    Y(target);\n",
    "} else {\n",
    "    Z(target);\n",
    "}\n",
    "```"
   ]
  },
  {
   "cell_type": "markdown",
   "metadata": {},
   "source": [
    "### Qubit Management\n",
    "\n",
    "> ℹ️ Note\\\n",
    "\\\n",
    "None of these statements are allowed within the body of a function. They are only valid within operations.\n",
    "\n",
    "#### Clean Qubits\n",
    "\n",
    "The `using` statement is used to acquire new qubits for use during a statement block. The qubits are guaranteed to be initialized to the computational `Zero` state. The qubits should be in the computational `Zero` state at the end of the statement block; simulators are encouraged to enforce this.\n",
    "\n",
    "> ⚠️ Warning\\\n",
    "\\\n",
    "Target machines expect that qubits are in the |0Γƒ⌐ state immediately before delocation, so that they can be reused and offered to other `using` blocks for allocation. Whenever possible, use unitary operations to return any allocated qubits to |0Γƒ⌐. If need be, `Reset` operation can be used to ensure that the measured qubit is returned to |0Γƒ⌐. Such a measurement will destroy any entanglement with the remaining qubits and can thus impact the computation.\n",
    "\n",
    "Example:\n",
    "\n",
    "```cs\n",
    "using (register = Qubit[8]) {\n",
    "    // Do stuff ...\n",
    "    ResetAll(register);\n",
    "}\n",
    "```"
   ]
  },
  {
   "cell_type": "markdown",
   "metadata": {},
   "source": [
    "## Congratulations 🎉\n",
    "\n",
    "You've completed the introduction to Q#! Now, you're ready to write really powerful quantum algorithms!"
   ]
  }
 ],
 "metadata": {
  "kernelspec": {
   "display_name": "Q#",
   "language": "qsharp",
   "name": "iqsharp"
  },
  "language_info": {
   "name": ""
  }
 },
 "nbformat": 4,
 "nbformat_minor": 4
}